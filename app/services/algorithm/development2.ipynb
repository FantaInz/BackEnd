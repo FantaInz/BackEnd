{
 "cells": [
  {
   "cell_type": "code",
   "id": "initial_id",
   "metadata": {
    "collapsed": true,
    "ExecuteTime": {
     "end_time": "2024-11-22T00:09:43.936413Z",
     "start_time": "2024-11-22T00:09:43.908219Z"
    }
   },
   "source": [
    "import decimal\n",
    "from sqlalchemy import create_engine\n",
    "import pandas as pd\n",
    "import numpy as np\n",
    "import os\n",
    "import importlib\n",
    "\n",
    "from win32.Demos.RegCreateKeyTransacted import trans\n",
    "\n",
    "os.chdir(\"..\\\\..\\\\..\")\n",
    "print(os.getcwd())\n",
    "import pulp\n",
    "from app.utils.config import db_config\n",
    "from app.models.player import Player\n",
    "from sqlalchemy import Select\n",
    "from sqlalchemy.orm import Session\n",
    "from app.models.squad import Squad\n",
    "importlib.reload(app.services.algorithm.utils)\n",
    "from app.services.algorithm.utils import encode_squad,create_players_dataframe"
   ],
   "outputs": [
    {
     "name": "stdout",
     "output_type": "stream",
     "text": [
      "C:\\\n"
     ]
    }
   ],
   "execution_count": 136
  },
  {
   "metadata": {
    "ExecuteTime": {
     "end_time": "2024-11-22T00:08:59.234677Z",
     "start_time": "2024-11-22T00:08:59.219004Z"
    }
   },
   "cell_type": "code",
   "source": "from app.services.algorithm.utils import create_players_dataframe",
   "id": "27b0091060b4e85c",
   "outputs": [
    {
     "ename": "ImportError",
     "evalue": "cannot import name 'create_players_dataframe' from 'app.services.algorithm.utils' (C:\\Users\\18pep\\Documents\\sem7\\inżynierka\\BackEnd\\app\\services\\algorithm\\utils.py)",
     "output_type": "error",
     "traceback": [
      "\u001B[1;31m---------------------------------------------------------------------------\u001B[0m",
      "\u001B[1;31mImportError\u001B[0m                               Traceback (most recent call last)",
      "Cell \u001B[1;32mIn[135], line 1\u001B[0m\n\u001B[1;32m----> 1\u001B[0m \u001B[38;5;28;01mfrom\u001B[39;00m \u001B[38;5;21;01mapp\u001B[39;00m\u001B[38;5;21;01m.\u001B[39;00m\u001B[38;5;21;01mservices\u001B[39;00m\u001B[38;5;21;01m.\u001B[39;00m\u001B[38;5;21;01malgorithm\u001B[39;00m\u001B[38;5;21;01m.\u001B[39;00m\u001B[38;5;21;01mutils\u001B[39;00m \u001B[38;5;28;01mimport\u001B[39;00m create_players_dataframe\n",
      "\u001B[1;31mImportError\u001B[0m: cannot import name 'create_players_dataframe' from 'app.services.algorithm.utils' (C:\\Users\\18pep\\Documents\\sem7\\inżynierka\\BackEnd\\app\\services\\algorithm\\utils.py)"
     ]
    }
   ],
   "execution_count": 135
  },
  {
   "metadata": {
    "ExecuteTime": {
     "end_time": "2024-11-22T17:13:11.740899Z",
     "start_time": "2024-11-22T17:13:11.621835Z"
    }
   },
   "cell_type": "code",
   "source": [
    "engine=create_engine(db_config.DB_CONFIG)\n",
    "with Session(engine) as session:\n",
    "    with session.begin():\n",
    "        data=session.execute(Select(Player).order_by(Player.id))\n",
    "        data=data.scalars().all()\n",
    "        playersNum=len(data)\n",
    "        squad=session.execute(Select(Squad).where(Squad.id==9104)).scalars().first()\n",
    "        current_squad=encode_squad(playersNum,squad)\n",
    "        df=create_players_dataframe(data,squad)"
   ],
   "id": "b13689765ccf03c1",
   "outputs": [],
   "execution_count": 257
  },
  {
   "metadata": {
    "ExecuteTime": {
     "end_time": "2024-11-22T17:13:11.875187Z",
     "start_time": "2024-11-22T17:13:11.868288Z"
    }
   },
   "cell_type": "code",
   "source": "df.iloc[339]",
   "id": "b1196b9ea6899d9c",
   "outputs": [
    {
     "data": {
      "text/plain": [
       "id                          340\n",
       "name              Manuel Akanji\n",
       "team_id                      13\n",
       "position                      2\n",
       "expectedPoints     [2.80, 1.70]\n",
       "availability                100\n",
       "buy_price                    55\n",
       "sell_price                   55\n",
       "Name: 339, dtype: object"
      ]
     },
     "execution_count": 258,
     "metadata": {},
     "output_type": "execute_result"
    }
   ],
   "execution_count": 258
  },
  {
   "metadata": {
    "ExecuteTime": {
     "end_time": "2024-11-24T13:25:49.621751Z",
     "start_time": "2024-11-24T13:25:49.607546Z"
    }
   },
   "cell_type": "code",
   "source": [
    "import importlib\n",
    "importlib.reload(app.services.algorithm.solver)\n",
    "import sys\n",
    "sys.setrecursionlimit(3000)"
   ],
   "id": "2afa1b62edcd1b44",
   "outputs": [],
   "execution_count": 486
  },
  {
   "metadata": {
    "ExecuteTime": {
     "end_time": "2024-11-24T13:25:49.996735Z",
     "start_time": "2024-11-24T13:25:49.992208Z"
    }
   },
   "cell_type": "code",
   "source": "from app.services.algorithm.solver import Solver",
   "id": "a98bde2cac2c0ebb",
   "outputs": [],
   "execution_count": 487
  },
  {
   "metadata": {
    "ExecuteTime": {
     "end_time": "2024-11-24T13:25:50.444864Z",
     "start_time": "2024-11-24T13:25:50.437993Z"
    }
   },
   "cell_type": "code",
   "source": "solver=Solver(df,current_squad,playersNum,21,3,2)\n",
   "id": "a8c7e93f11c03cef",
   "outputs": [],
   "execution_count": 488
  },
  {
   "metadata": {
    "ExecuteTime": {
     "end_time": "2024-11-24T13:25:58.453511Z",
     "start_time": "2024-11-24T13:25:50.955316Z"
    }
   },
   "cell_type": "code",
   "source": [
    "status,transfer_in,transfer_out,captain,subs,team,squad,free=solver.solve([],[])\n",
    "print(status)"
   ],
   "id": "3098f7477d12a000",
   "outputs": [
    {
     "ename": "ValueError",
     "evalue": "not enough values to unpack (expected 9, got 8)",
     "output_type": "error",
     "traceback": [
      "\u001B[1;31m---------------------------------------------------------------------------\u001B[0m",
      "\u001B[1;31mValueError\u001B[0m                                Traceback (most recent call last)",
      "Cell \u001B[1;32mIn[489], line 1\u001B[0m\n\u001B[1;32m----> 1\u001B[0m status,transfer_in,transfer_out,captain,subs,team,squad,free,chips\u001B[38;5;241m=\u001B[39msolver\u001B[38;5;241m.\u001B[39msolve([],[])\n\u001B[0;32m      2\u001B[0m \u001B[38;5;28mprint\u001B[39m(status)\n",
      "\u001B[1;31mValueError\u001B[0m: not enough values to unpack (expected 9, got 8)"
     ]
    }
   ],
   "execution_count": 489
  },
  {
   "metadata": {
    "ExecuteTime": {
     "end_time": "2024-11-24T02:09:47.822123Z",
     "start_time": "2024-11-24T02:09:47.811930Z"
    }
   },
   "cell_type": "code",
   "source": [
    "def see_result(arr,numPlayers):\n",
    "    res=[]\n",
    "    for i in range(0,numPlayers):\n",
    "        if arr[i].value()!=0:\n",
    "            res.append(i)\n",
    "            print(i,arr[i].value(), end=\", \")\n",
    "    print()\n",
    "    return res "
   ],
   "id": "10fef3cb7994dde6",
   "outputs": [],
   "execution_count": 461
  },
  {
   "metadata": {
    "ExecuteTime": {
     "end_time": "2024-11-24T02:09:48.561993Z",
     "start_time": "2024-11-24T02:09:48.547585Z"
    }
   },
   "cell_type": "code",
   "source": [
    "k=0\n",
    "print(\"squad\")\n",
    "tmpsq1=see_result(squad[k],playersNum)\n",
    "print(\"subs\")\n",
    "tmpsb1=see_result(subs[k],playersNum)\n",
    "print(\"team\")\n",
    "tmpte1=see_result(team[k],playersNum)\n",
    "print(\"in\")\n",
    "tmpin1=see_result(transfer_in[k],playersNum)\n",
    "print(\"out\")\n",
    "tmpout1=see_result(transfer_out[k],playersNum)\n",
    "print(\"captain\")\n",
    "tmpcap1=see_result(captain[k],playersNum)"
   ],
   "id": "e6baff89f7c6ac37",
   "outputs": [
    {
     "name": "stdout",
     "output_type": "stream",
     "text": [
      "squad\n",
      "2 1.0, 98 1.0, 254 1.0, 290 1.0, 308 1.0, 323 1.0, 327 1.0, 338 1.0, 349 1.0, 365 1.0, 412 1.0, 446 1.0, 520 1.0, 540 1.0, 616 1.0, \n",
      "subs\n",
      "2 1.0, 290 1.0, 308 1.0, 412 1.0, \n",
      "team\n",
      "98 1.0, 254 1.0, 323 1.0, 327 1.0, 338 1.0, 349 1.0, 365 1.0, 446 1.0, 520 1.0, 540 1.0, 616 1.0, \n",
      "in\n",
      "323 1.0, 338 1.0, 349 1.0, 365 1.0, 540 1.0, 616 1.0, \n",
      "out\n",
      "116 1.0, 179 1.0, 229 1.0, 325 1.0, 332 1.0, 350 1.0, \n",
      "captain\n",
      "327 1.0, \n"
     ]
    }
   ],
   "execution_count": 462
  },
  {
   "metadata": {
    "ExecuteTime": {
     "end_time": "2024-11-24T02:09:53.765456Z",
     "start_time": "2024-11-24T02:09:53.757564Z"
    }
   },
   "cell_type": "code",
   "source": "df.iloc[tmpout1].sell_price.sum()-df.iloc[tmpin1].buy_price.sum()",
   "id": "f7dff0ecbd27400b",
   "outputs": [
    {
     "data": {
      "text/plain": [
       "np.int64(38)"
      ]
     },
     "execution_count": 463,
     "metadata": {},
     "output_type": "execute_result"
    }
   ],
   "execution_count": 463
  },
  {
   "metadata": {
    "ExecuteTime": {
     "end_time": "2024-11-24T02:10:01.709804Z",
     "start_time": "2024-11-24T02:10:01.601112Z"
    }
   },
   "cell_type": "code",
   "source": "sum(free[0]).value()",
   "id": "b64626a2a54c59fb",
   "outputs": [
    {
     "data": {
      "text/plain": [
       "5.0"
      ]
     },
     "execution_count": 465,
     "metadata": {},
     "output_type": "execute_result"
    }
   ],
   "execution_count": 465
  },
  {
   "metadata": {
    "ExecuteTime": {
     "end_time": "2024-11-22T18:28:45.945143Z",
     "start_time": "2024-11-22T18:28:45.915288Z"
    }
   },
   "cell_type": "code",
   "source": "df",
   "id": "5fd4de9946e28f7b",
   "outputs": [
    {
     "data": {
      "text/plain": [
       "      id                          name  team_id  position expectedPoints  \\\n",
       "0      1         Fábio Ferreira Vieira        1         3   [0.00, 0.00]   \n",
       "1      2     Gabriel Fernando de Jesus        1         4   [1.20, 1.70]   \n",
       "2      3  Gabriel dos Santos Magalhães        1         2   [2.00, 2.50]   \n",
       "3      4                   Kai Havertz        1         4   [1.50, 2.50]   \n",
       "4      5                     Karl Hein        1         1   [0.00, 0.00]   \n",
       "..   ...                           ...      ...       ...            ...   \n",
       "673  674                 Paris Maghoma        4         3   [0.00, 0.00]   \n",
       "674  675           Josh Wilson-Esbrand       13         2   [2.20, 1.70]   \n",
       "675  676                    Zach Marsh        7         4   [1.00, 1.00]   \n",
       "676  677                 Ollie Scarles       19         2   [1.20, 1.20]   \n",
       "677  678                  Callum Bates        8         3   [1.10, 1.10]   \n",
       "\n",
       "     availability  buy_price  sell_price  \n",
       "0               0         54          54  \n",
       "1             100         68          68  \n",
       "2             100         61          61  \n",
       "3              75         80          80  \n",
       "4               0         40          40  \n",
       "..            ...        ...         ...  \n",
       "673             0         45          45  \n",
       "674             0         40          40  \n",
       "675             0         45          45  \n",
       "676             0         40          40  \n",
       "677             0         45          45  \n",
       "\n",
       "[678 rows x 8 columns]"
      ],
      "text/html": [
       "<div>\n",
       "<style scoped>\n",
       "    .dataframe tbody tr th:only-of-type {\n",
       "        vertical-align: middle;\n",
       "    }\n",
       "\n",
       "    .dataframe tbody tr th {\n",
       "        vertical-align: top;\n",
       "    }\n",
       "\n",
       "    .dataframe thead th {\n",
       "        text-align: right;\n",
       "    }\n",
       "</style>\n",
       "<table border=\"1\" class=\"dataframe\">\n",
       "  <thead>\n",
       "    <tr style=\"text-align: right;\">\n",
       "      <th></th>\n",
       "      <th>id</th>\n",
       "      <th>name</th>\n",
       "      <th>team_id</th>\n",
       "      <th>position</th>\n",
       "      <th>expectedPoints</th>\n",
       "      <th>availability</th>\n",
       "      <th>buy_price</th>\n",
       "      <th>sell_price</th>\n",
       "    </tr>\n",
       "  </thead>\n",
       "  <tbody>\n",
       "    <tr>\n",
       "      <th>0</th>\n",
       "      <td>1</td>\n",
       "      <td>Fábio Ferreira Vieira</td>\n",
       "      <td>1</td>\n",
       "      <td>3</td>\n",
       "      <td>[0.00, 0.00]</td>\n",
       "      <td>0</td>\n",
       "      <td>54</td>\n",
       "      <td>54</td>\n",
       "    </tr>\n",
       "    <tr>\n",
       "      <th>1</th>\n",
       "      <td>2</td>\n",
       "      <td>Gabriel Fernando de Jesus</td>\n",
       "      <td>1</td>\n",
       "      <td>4</td>\n",
       "      <td>[1.20, 1.70]</td>\n",
       "      <td>100</td>\n",
       "      <td>68</td>\n",
       "      <td>68</td>\n",
       "    </tr>\n",
       "    <tr>\n",
       "      <th>2</th>\n",
       "      <td>3</td>\n",
       "      <td>Gabriel dos Santos Magalhães</td>\n",
       "      <td>1</td>\n",
       "      <td>2</td>\n",
       "      <td>[2.00, 2.50]</td>\n",
       "      <td>100</td>\n",
       "      <td>61</td>\n",
       "      <td>61</td>\n",
       "    </tr>\n",
       "    <tr>\n",
       "      <th>3</th>\n",
       "      <td>4</td>\n",
       "      <td>Kai Havertz</td>\n",
       "      <td>1</td>\n",
       "      <td>4</td>\n",
       "      <td>[1.50, 2.50]</td>\n",
       "      <td>75</td>\n",
       "      <td>80</td>\n",
       "      <td>80</td>\n",
       "    </tr>\n",
       "    <tr>\n",
       "      <th>4</th>\n",
       "      <td>5</td>\n",
       "      <td>Karl Hein</td>\n",
       "      <td>1</td>\n",
       "      <td>1</td>\n",
       "      <td>[0.00, 0.00]</td>\n",
       "      <td>0</td>\n",
       "      <td>40</td>\n",
       "      <td>40</td>\n",
       "    </tr>\n",
       "    <tr>\n",
       "      <th>...</th>\n",
       "      <td>...</td>\n",
       "      <td>...</td>\n",
       "      <td>...</td>\n",
       "      <td>...</td>\n",
       "      <td>...</td>\n",
       "      <td>...</td>\n",
       "      <td>...</td>\n",
       "      <td>...</td>\n",
       "    </tr>\n",
       "    <tr>\n",
       "      <th>673</th>\n",
       "      <td>674</td>\n",
       "      <td>Paris Maghoma</td>\n",
       "      <td>4</td>\n",
       "      <td>3</td>\n",
       "      <td>[0.00, 0.00]</td>\n",
       "      <td>0</td>\n",
       "      <td>45</td>\n",
       "      <td>45</td>\n",
       "    </tr>\n",
       "    <tr>\n",
       "      <th>674</th>\n",
       "      <td>675</td>\n",
       "      <td>Josh Wilson-Esbrand</td>\n",
       "      <td>13</td>\n",
       "      <td>2</td>\n",
       "      <td>[2.20, 1.70]</td>\n",
       "      <td>0</td>\n",
       "      <td>40</td>\n",
       "      <td>40</td>\n",
       "    </tr>\n",
       "    <tr>\n",
       "      <th>675</th>\n",
       "      <td>676</td>\n",
       "      <td>Zach Marsh</td>\n",
       "      <td>7</td>\n",
       "      <td>4</td>\n",
       "      <td>[1.00, 1.00]</td>\n",
       "      <td>0</td>\n",
       "      <td>45</td>\n",
       "      <td>45</td>\n",
       "    </tr>\n",
       "    <tr>\n",
       "      <th>676</th>\n",
       "      <td>677</td>\n",
       "      <td>Ollie Scarles</td>\n",
       "      <td>19</td>\n",
       "      <td>2</td>\n",
       "      <td>[1.20, 1.20]</td>\n",
       "      <td>0</td>\n",
       "      <td>40</td>\n",
       "      <td>40</td>\n",
       "    </tr>\n",
       "    <tr>\n",
       "      <th>677</th>\n",
       "      <td>678</td>\n",
       "      <td>Callum Bates</td>\n",
       "      <td>8</td>\n",
       "      <td>3</td>\n",
       "      <td>[1.10, 1.10]</td>\n",
       "      <td>0</td>\n",
       "      <td>45</td>\n",
       "      <td>45</td>\n",
       "    </tr>\n",
       "  </tbody>\n",
       "</table>\n",
       "<p>678 rows × 8 columns</p>\n",
       "</div>"
      ]
     },
     "execution_count": 436,
     "metadata": {},
     "output_type": "execute_result"
    }
   ],
   "execution_count": 436
  },
  {
   "metadata": {
    "ExecuteTime": {
     "end_time": "2024-11-22T18:26:01.460679Z",
     "start_time": "2024-11-22T18:26:01.452181Z"
    }
   },
   "cell_type": "code",
   "source": "see_result(free[0],playersNum)\n",
   "id": "5617774560539141",
   "outputs": [
    {
     "name": "stdout",
     "output_type": "stream",
     "text": [
      "323 1.0, 365 1.0, 540 1.0, \n"
     ]
    },
    {
     "data": {
      "text/plain": [
       "[323, 365, 540]"
      ]
     },
     "execution_count": 431,
     "metadata": {},
     "output_type": "execute_result"
    }
   ],
   "execution_count": 431
  },
  {
   "metadata": {},
   "cell_type": "code",
   "outputs": [],
   "execution_count": null,
   "source": "",
   "id": "25c8f2b38fb1eac0"
  },
  {
   "metadata": {
    "ExecuteTime": {
     "end_time": "2024-11-22T18:24:51.127443Z",
     "start_time": "2024-11-22T18:24:51.117844Z"
    }
   },
   "cell_type": "code",
   "source": [
    "k=1\n",
    "print(\"squad\")\n",
    "tmpsq=see_result(squad[k],playersNum)\n",
    "print(\"subs\")\n",
    "tmpsb=see_result(subs[k],playersNum)\n",
    "print(\"team\")\n",
    "tmpte=see_result(team[k],playersNum)\n",
    "print(\"in\")\n",
    "tmpin=see_result(transfer_in[k],playersNum)\n",
    "print(\"out\")\n",
    "tmpout=see_result(transfer_out[k],playersNum)\n",
    "print(\"captain\")\n",
    "tmpcap=see_result(captain[k],playersNum)"
   ],
   "id": "9d9146d6549fc318",
   "outputs": [
    {
     "name": "stdout",
     "output_type": "stream",
     "text": [
      "squad\n",
      "2 1.0, 98 1.0, 234 1.0, 254 1.0, 290 1.0, 308 1.0, 323 1.0, 327 1.0, 338 1.0, 349 1.0, 365 1.0, 412 1.0, 446 1.0, 540 1.0, 616 1.0, \n",
      "subs\n",
      "2 1.0, 290 1.0, 308 1.0, 412 1.0, \n",
      "team\n",
      "98 1.0, 234 1.0, 254 1.0, 323 1.0, 327 1.0, 338 1.0, 349 1.0, 365 1.0, 446 1.0, 540 1.0, 616 1.0, \n",
      "in\n",
      "234 1.0, \n",
      "out\n",
      "520 1.0, \n",
      "captain\n",
      "327 1.0, \n"
     ]
    }
   ],
   "execution_count": 429
  },
  {
   "metadata": {
    "ExecuteTime": {
     "end_time": "2024-11-22T00:30:48.210053Z",
     "start_time": "2024-11-22T00:30:48.204397Z"
    }
   },
   "cell_type": "code",
   "source": "df.iloc[338]",
   "id": "cdbcae949d343186",
   "outputs": [
    {
     "data": {
      "text/plain": [
       "id                            339\n",
       "name              Virgil van Dijk\n",
       "team_id                        12\n",
       "position                        2\n",
       "expectedPoints       [6.00, 6.50]\n",
       "availability                    0\n",
       "buy_price                      63\n",
       "sell_price                     63\n",
       "Name: 338, dtype: object"
      ]
     },
     "execution_count": 172,
     "metadata": {},
     "output_type": "execute_result"
    }
   ],
   "execution_count": 172
  },
  {
   "metadata": {
    "ExecuteTime": {
     "end_time": "2024-11-22T00:30:21.721654Z",
     "start_time": "2024-11-22T00:30:21.709075Z"
    }
   },
   "cell_type": "code",
   "source": "21+df.iloc[tmpout1].sell_price.sum()- df.iloc[tmpin1].buy_price.sum()",
   "id": "a6e6bbee2619df0c",
   "outputs": [
    {
     "data": {
      "text/plain": [
       "np.int64(32)"
      ]
     },
     "execution_count": 169,
     "metadata": {},
     "output_type": "execute_result"
    }
   ],
   "execution_count": 169
  },
  {
   "metadata": {
    "ExecuteTime": {
     "end_time": "2024-11-22T00:19:48.285952Z",
     "start_time": "2024-11-22T00:19:48.280273Z"
    }
   },
   "cell_type": "code",
   "source": "df.iloc[tmpin1].buy_price.sum()",
   "id": "5be9cb6534a36755",
   "outputs": [
    {
     "data": {
      "text/plain": [
       "np.int64(411)"
      ]
     },
     "execution_count": 147,
     "metadata": {},
     "output_type": "execute_result"
    }
   ],
   "execution_count": 147
  },
  {
   "metadata": {
    "ExecuteTime": {
     "end_time": "2024-11-22T00:20:02.205462Z",
     "start_time": "2024-11-22T00:20:02.199593Z"
    }
   },
   "cell_type": "code",
   "source": "df.iloc[tmpout1].sell_price.sum()",
   "id": "b472cd2762463e8",
   "outputs": [
    {
     "data": {
      "text/plain": [
       "np.int64(422)"
      ]
     },
     "execution_count": 149,
     "metadata": {},
     "output_type": "execute_result"
    }
   ],
   "execution_count": 149
  },
  {
   "metadata": {
    "ExecuteTime": {
     "end_time": "2024-11-22T00:24:35.378724Z",
     "start_time": "2024-11-22T00:24:35.371216Z"
    }
   },
   "cell_type": "code",
   "source": "df.iloc[tmpout].sell_price",
   "id": "bf5c9b1b53af6ba",
   "outputs": [
    {
     "data": {
      "text/plain": [
       "254    47\n",
       "Name: sell_price, dtype: int64"
      ]
     },
     "execution_count": 158,
     "metadata": {},
     "output_type": "execute_result"
    }
   ],
   "execution_count": 158
  },
  {
   "metadata": {
    "ExecuteTime": {
     "end_time": "2024-11-21T21:52:19.483467Z",
     "start_time": "2024-11-21T21:52:19.472666Z"
    }
   },
   "cell_type": "code",
   "source": "df.iloc[tmpte].expectedPoints.apply(lambda x: x[1]).sum()",
   "id": "bc8a9cf9a779cc1",
   "outputs": [
    {
     "data": {
      "text/plain": [
       "Decimal('79.10')"
      ]
     },
     "execution_count": 113,
     "metadata": {},
     "output_type": "execute_result"
    }
   ],
   "execution_count": 113
  },
  {
   "metadata": {
    "ExecuteTime": {
     "end_time": "2024-11-21T20:43:19.988485Z",
     "start_time": "2024-11-21T20:43:19.966984Z"
    }
   },
   "cell_type": "code",
   "source": [
    "importlib.reload(app.services.algorithm.utils)\n",
    "from app.services.algorithm.utils import get_decision_array\n"
   ],
   "id": "f327d4de8827fbe8",
   "outputs": [],
   "execution_count": 58
  },
  {
   "metadata": {
    "ExecuteTime": {
     "end_time": "2024-11-21T20:47:03.066776Z",
     "start_time": "2024-11-21T20:47:03.062813Z"
    }
   },
   "cell_type": "code",
   "source": "a=get_decision_array(\"name\",2,2)",
   "id": "7005bf7927bbfce",
   "outputs": [],
   "execution_count": 65
  },
  {
   "metadata": {
    "ExecuteTime": {
     "end_time": "2024-11-21T20:47:03.331458Z",
     "start_time": "2024-11-21T20:47:03.325428Z"
    }
   },
   "cell_type": "code",
   "source": "sum(sum(a))",
   "id": "4468e4e120af75ef",
   "outputs": [
    {
     "data": {
      "text/plain": [
       "1*name_0_0 + 1*name_0_1 + 1*name_1_0 + 1*name_1_1 + 0"
      ]
     },
     "execution_count": 66,
     "metadata": {},
     "output_type": "execute_result"
    }
   ],
   "execution_count": 66
  },
  {
   "metadata": {
    "ExecuteTime": {
     "end_time": "2024-11-21T20:47:14.899492Z",
     "start_time": "2024-11-21T20:47:14.893587Z"
    }
   },
   "cell_type": "code",
   "source": "sum(a[0])",
   "id": "f00f0d3df1753b02",
   "outputs": [
    {
     "data": {
      "text/plain": [
       "1*name_0_0 + 1*name_1_0 + 0"
      ]
     },
     "execution_count": 68,
     "metadata": {},
     "output_type": "execute_result"
    }
   ],
   "execution_count": 68
  },
  {
   "metadata": {
    "ExecuteTime": {
     "end_time": "2024-11-21T22:36:03.849914Z",
     "start_time": "2024-11-21T22:36:03.835889Z"
    }
   },
   "cell_type": "code",
   "source": "dd=pd.DataFrame({\"a\":[1,2],\"b\":[3,4]})",
   "id": "4a784a2157949501",
   "outputs": [],
   "execution_count": 122
  },
  {
   "metadata": {
    "ExecuteTime": {
     "end_time": "2024-11-21T22:37:57.297140Z",
     "start_time": "2024-11-21T22:37:57.277374Z"
    }
   },
   "cell_type": "code",
   "source": [
    "for a in range(2):\n",
    "    dd.loc[a,\"a\"]=4\n",
    "dd"
   ],
   "id": "a9d9381d6644dd84",
   "outputs": [
    {
     "data": {
      "text/plain": [
       "   a  b\n",
       "0  4  3\n",
       "1  4  4"
      ],
      "text/html": [
       "<div>\n",
       "<style scoped>\n",
       "    .dataframe tbody tr th:only-of-type {\n",
       "        vertical-align: middle;\n",
       "    }\n",
       "\n",
       "    .dataframe tbody tr th {\n",
       "        vertical-align: top;\n",
       "    }\n",
       "\n",
       "    .dataframe thead th {\n",
       "        text-align: right;\n",
       "    }\n",
       "</style>\n",
       "<table border=\"1\" class=\"dataframe\">\n",
       "  <thead>\n",
       "    <tr style=\"text-align: right;\">\n",
       "      <th></th>\n",
       "      <th>a</th>\n",
       "      <th>b</th>\n",
       "    </tr>\n",
       "  </thead>\n",
       "  <tbody>\n",
       "    <tr>\n",
       "      <th>0</th>\n",
       "      <td>4</td>\n",
       "      <td>3</td>\n",
       "    </tr>\n",
       "    <tr>\n",
       "      <th>1</th>\n",
       "      <td>4</td>\n",
       "      <td>4</td>\n",
       "    </tr>\n",
       "  </tbody>\n",
       "</table>\n",
       "</div>"
      ]
     },
     "execution_count": 131,
     "metadata": {},
     "output_type": "execute_result"
    }
   ],
   "execution_count": 131
  },
  {
   "metadata": {
    "ExecuteTime": {
     "end_time": "2024-11-24T13:18:07.047087Z",
     "start_time": "2024-11-24T13:18:07.037674Z"
    }
   },
   "cell_type": "code",
   "source": [
    "d={}\n",
    "d[\"tc\"]=[1,2]\n",
    "d[\"bb\"]=[3,4]\n",
    "a=d.get(\"wc\")\n",
    "for i in range(2):\n",
    "    suma=sum([d[k][i] for k in d])\n",
    "    print(suma)"
   ],
   "id": "a2205a84481e737e",
   "outputs": [
    {
     "name": "stdout",
     "output_type": "stream",
     "text": [
      "1\n",
      "2\n"
     ]
    }
   ],
   "execution_count": 478
  },
  {
   "metadata": {
    "ExecuteTime": {
     "end_time": "2024-11-24T13:15:05.254211Z",
     "start_time": "2024-11-24T13:15:05.244307Z"
    }
   },
   "cell_type": "code",
   "source": [
    "for k in d:\n",
    "    print(k)"
   ],
   "id": "a525810e4b5159e4",
   "outputs": [
    {
     "name": "stdout",
     "output_type": "stream",
     "text": [
      "tc\n",
      "bb\n"
     ]
    }
   ],
   "execution_count": 474
  },
  {
   "metadata": {},
   "cell_type": "code",
   "outputs": [],
   "execution_count": null,
   "source": "",
   "id": "a342dc017176acaf"
  }
 ],
 "metadata": {
  "kernelspec": {
   "display_name": "Python 3",
   "language": "python",
   "name": "python3"
  },
  "language_info": {
   "codemirror_mode": {
    "name": "ipython",
    "version": 2
   },
   "file_extension": ".py",
   "mimetype": "text/x-python",
   "name": "python",
   "nbconvert_exporter": "python",
   "pygments_lexer": "ipython2",
   "version": "2.7.6"
  }
 },
 "nbformat": 4,
 "nbformat_minor": 5
}
