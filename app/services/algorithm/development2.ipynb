{
 "cells": [
  {
   "cell_type": "code",
   "id": "initial_id",
   "metadata": {
    "collapsed": true,
    "ExecuteTime": {
     "end_time": "2024-11-29T22:30:33.717926Z",
     "start_time": "2024-11-29T22:30:32.326096Z"
    }
   },
   "source": [
    "import decimal\n",
    "from sqlalchemy import create_engine\n",
    "import pandas as pd\n",
    "import numpy as np\n",
    "import os\n",
    "import importlib\n",
    "os.chdir(\"..\\\\..\\\\..\")\n",
    "print(os.getcwd())\n",
    "import pulp\n",
    "from app.utils.config import db_config\n",
    "from app.models.player import Player\n",
    "from sqlalchemy import Select\n",
    "from sqlalchemy.orm import Session\n",
    "from app.models.squad import Squad\n",
    "from app.services.algorithm.utils import encode_squad,create_players_dataframe"
   ],
   "outputs": [
    {
     "name": "stdout",
     "output_type": "stream",
     "text": [
      "C:\\Users\\18pep\\Documents\\sem7\\inżynierka\\BackEnd\n"
     ]
    }
   ],
   "execution_count": 1
  },
  {
   "metadata": {
    "ExecuteTime": {
     "end_time": "2024-11-29T22:30:37.855642Z",
     "start_time": "2024-11-29T22:30:37.851540Z"
    }
   },
   "cell_type": "code",
   "source": "from app.services.algorithm.utils import create_players_dataframe",
   "id": "27b0091060b4e85c",
   "outputs": [],
   "execution_count": 2
  },
  {
   "metadata": {
    "ExecuteTime": {
     "end_time": "2024-11-29T22:30:44.798217Z",
     "start_time": "2024-11-29T22:30:39.190355Z"
    }
   },
   "cell_type": "code",
   "source": [
    "engine=create_engine(db_config.DB_CONFIG)\n",
    "with Session(engine) as session:\n",
    "    with session.begin():\n",
    "        data=session.execute(Select(Player).order_by(Player.id))\n",
    "        data=data.scalars().all()\n",
    "        playersNum=len(data)\n",
    "        squad=session.execute(Select(Squad).where(Squad.id==9104)).scalars().first()\n",
    "        current_squad=encode_squad(playersNum,squad)\n",
    "        df=create_players_dataframe(data,squad)\n",
    "        dff=create_players_dataframe(data,Squad())"
   ],
   "id": "b13689765ccf03c1",
   "outputs": [],
   "execution_count": 3
  },
  {
   "metadata": {
    "ExecuteTime": {
     "end_time": "2024-11-29T22:18:55.485420Z",
     "start_time": "2024-11-29T22:18:55.458699Z"
    }
   },
   "cell_type": "code",
   "source": "df.iloc[339]",
   "id": "b1196b9ea6899d9c",
   "outputs": [
    {
     "data": {
      "text/plain": [
       "id                                                              340\n",
       "name                                                  Manuel Akanji\n",
       "team_id                                                          13\n",
       "position                                                          2\n",
       "expectedPoints    [0.0, 0.0, 0.0, 0.0, 0.0, 0.0, 0.0, 0.0, 0.0, ...\n",
       "availability                                                    100\n",
       "buy_price                                                        54\n",
       "sell_price                                                       54\n",
       "Name: 339, dtype: object"
      ]
     },
     "execution_count": 10,
     "metadata": {},
     "output_type": "execute_result"
    }
   ],
   "execution_count": 10
  },
  {
   "metadata": {
    "ExecuteTime": {
     "end_time": "2024-11-29T22:30:48.960485Z",
     "start_time": "2024-11-29T22:30:48.948343Z"
    }
   },
   "cell_type": "code",
   "source": [
    "import app\n",
    "import importlib\n",
    "importlib.reload(app.services.algorithm.utils)"
   ],
   "id": "2afa1b62edcd1b44",
   "outputs": [
    {
     "data": {
      "text/plain": [
       "<module 'app.services.algorithm.utils' from 'C:\\\\Users\\\\18pep\\\\Documents\\\\sem7\\\\inżynierka\\\\BackEnd\\\\app\\\\services\\\\algorithm\\\\utils.py'>"
      ]
     },
     "execution_count": 4,
     "metadata": {},
     "output_type": "execute_result"
    }
   ],
   "execution_count": 4
  },
  {
   "metadata": {
    "ExecuteTime": {
     "end_time": "2024-11-29T22:38:25.515757Z",
     "start_time": "2024-11-29T22:38:25.507325Z"
    }
   },
   "cell_type": "code",
   "source": "importlib.reload(app.services.algorithm.solver)",
   "id": "43bd045b03722c53",
   "outputs": [
    {
     "data": {
      "text/plain": [
       "<module 'app.services.algorithm.solver' from 'C:\\\\Users\\\\18pep\\\\Documents\\\\sem7\\\\inżynierka\\\\BackEnd\\\\app\\\\services\\\\algorithm\\\\solver.py'>"
      ]
     },
     "execution_count": 18,
     "metadata": {},
     "output_type": "execute_result"
    }
   ],
   "execution_count": 18
  },
  {
   "metadata": {
    "ExecuteTime": {
     "end_time": "2024-11-29T22:38:25.781868Z",
     "start_time": "2024-11-29T22:38:25.777425Z"
    }
   },
   "cell_type": "code",
   "source": "from app.services.algorithm.solver import Solver",
   "id": "a98bde2cac2c0ebb",
   "outputs": [],
   "execution_count": 19
  },
  {
   "metadata": {
    "ExecuteTime": {
     "end_time": "2024-11-29T22:38:26.231994Z",
     "start_time": "2024-11-29T22:38:26.219534Z"
    }
   },
   "cell_type": "code",
   "source": "solverr=Solver(dff,None,playersNum,1000,None,1,None)",
   "id": "3abbbdb2c9a1fc7a",
   "outputs": [],
   "execution_count": 20
  },
  {
   "metadata": {
    "ExecuteTime": {
     "end_time": "2024-11-29T22:38:29.002557Z",
     "start_time": "2024-11-29T22:38:27.192482Z"
    }
   },
   "cell_type": "code",
   "source": "status,squad,team,captain,sub=solverr.get_best_squad(13)\n",
   "id": "41a7de2f2cf3d9d1",
   "outputs": [],
   "execution_count": 21
  },
  {
   "metadata": {
    "ExecuteTime": {
     "end_time": "2024-11-29T22:41:30.385048Z",
     "start_time": "2024-11-29T22:41:30.375888Z"
    }
   },
   "cell_type": "code",
   "source": [
    "s_arr=see_result(squad,playersNum)\n",
    "t_arr=see_result(team,playersNum)\n",
    "captain_arr=see_result(captain,playersNum)\n",
    "sub_arr=see_result(sub,playersNum)\n"
   ],
   "id": "a09403ac2c1a38b0",
   "outputs": [
    {
     "name": "stdout",
     "output_type": "stream",
     "text": [
      "2 1.0, 14 1.0, 16 1.0, 81 1.0, 98 1.0, 121 1.0, 128 1.0, 181 1.0, 365 1.0, 368 1.0, 502 1.0, 557 1.0, 647 1.0, 663 1.0, 667 1.0, \n",
      "2 1.0, 14 1.0, 16 1.0, 81 1.0, 98 1.0, 121 1.0, 128 1.0, 181 1.0, 365 1.0, 368 1.0, 502 1.0, \n",
      "181 1.0, \n",
      "557 1.0, 647 1.0, 663 1.0, 667 1.0, \n"
     ]
    }
   ],
   "execution_count": 31
  },
  {
   "metadata": {
    "ExecuteTime": {
     "end_time": "2024-11-29T22:39:23.881348Z",
     "start_time": "2024-11-29T22:39:23.874652Z"
    }
   },
   "cell_type": "code",
   "source": "dff[\"expectedPoints\"][t_arr].apply(lambda x: x[12]).sum()",
   "id": "73157c419f0ab531",
   "outputs": [
    {
     "data": {
      "text/plain": [
       "Decimal('59.25')"
      ]
     },
     "execution_count": 28,
     "metadata": {},
     "output_type": "execute_result"
    }
   ],
   "execution_count": 28
  },
  {
   "metadata": {
    "ExecuteTime": {
     "end_time": "2024-11-29T22:43:01.701697Z",
     "start_time": "2024-11-29T22:43:01.688511Z"
    }
   },
   "cell_type": "code",
   "source": "",
   "id": "77bfc637f78a5cf6",
   "outputs": [
    {
     "name": "stderr",
     "output_type": "stream",
     "text": [
      "C:\\Users\\18pep\\AppData\\Local\\Temp\\ipykernel_34520\\1299895070.py:1: UserWarning: Boolean Series key will be reindexed to match DataFrame index.\n",
      "  dff.iloc[s_arr][dff.position==3].expectedPoints.apply(lambda x: x[12])\n"
     ]
    },
    {
     "data": {
      "text/plain": [
       "16     5.88\n",
       "98     6.46\n",
       "181    6.93\n",
       "365    6.14\n",
       "502    6.18\n",
       "Name: expectedPoints, dtype: object"
      ]
     },
     "execution_count": 36,
     "metadata": {},
     "output_type": "execute_result"
    }
   ],
   "execution_count": 36
  },
  {
   "metadata": {
    "ExecuteTime": {
     "end_time": "2024-11-29T22:15:57.075815Z",
     "start_time": "2024-11-29T22:15:57.053310Z"
    }
   },
   "cell_type": "code",
   "source": "solver=Solver(df,current_squad,playersNum,21,3,2)\n",
   "id": "a8c7e93f11c03cef",
   "outputs": [
    {
     "ename": "TypeError",
     "evalue": "Solver.__init__() missing 1 required positional argument: 'currentWeek'",
     "output_type": "error",
     "traceback": [
      "\u001B[1;31m---------------------------------------------------------------------------\u001B[0m",
      "\u001B[1;31mTypeError\u001B[0m                                 Traceback (most recent call last)",
      "Cell \u001B[1;32mIn[24], line 1\u001B[0m\n\u001B[1;32m----> 1\u001B[0m solver\u001B[38;5;241m=\u001B[39m\u001B[43mSolver\u001B[49m\u001B[43m(\u001B[49m\u001B[43mdf\u001B[49m\u001B[43m,\u001B[49m\u001B[43mcurrent_squad\u001B[49m\u001B[43m,\u001B[49m\u001B[43mplayersNum\u001B[49m\u001B[43m,\u001B[49m\u001B[38;5;241;43m21\u001B[39;49m\u001B[43m,\u001B[49m\u001B[38;5;241;43m3\u001B[39;49m\u001B[43m,\u001B[49m\u001B[38;5;241;43m2\u001B[39;49m\u001B[43m)\u001B[49m\n",
      "\u001B[1;31mTypeError\u001B[0m: Solver.__init__() missing 1 required positional argument: 'currentWeek'"
     ]
    }
   ],
   "execution_count": 24
  },
  {
   "metadata": {
    "ExecuteTime": {
     "end_time": "2024-11-29T22:15:59.743389Z",
     "start_time": "2024-11-29T22:15:59.720873Z"
    }
   },
   "cell_type": "code",
   "source": [
    "status,transfer_in,transfer_out,captain,subs,team,squad,free=solver.solve([],[])\n",
    "print(status)"
   ],
   "id": "3098f7477d12a000",
   "outputs": [
    {
     "ename": "NameError",
     "evalue": "name 'solver' is not defined",
     "output_type": "error",
     "traceback": [
      "\u001B[1;31m---------------------------------------------------------------------------\u001B[0m",
      "\u001B[1;31mNameError\u001B[0m                                 Traceback (most recent call last)",
      "Cell \u001B[1;32mIn[25], line 1\u001B[0m\n\u001B[1;32m----> 1\u001B[0m status,transfer_in,transfer_out,captain,subs,team,squad,free\u001B[38;5;241m=\u001B[39m\u001B[43msolver\u001B[49m\u001B[38;5;241m.\u001B[39msolve([],[])\n\u001B[0;32m      2\u001B[0m \u001B[38;5;28mprint\u001B[39m(status)\n",
      "\u001B[1;31mNameError\u001B[0m: name 'solver' is not defined"
     ]
    }
   ],
   "execution_count": 25
  },
  {
   "metadata": {
    "ExecuteTime": {
     "end_time": "2024-11-29T22:31:51.582749Z",
     "start_time": "2024-11-29T22:31:51.574139Z"
    }
   },
   "cell_type": "code",
   "source": [
    "def see_result(arr,numPlayers):\n",
    "    res=[]\n",
    "    for i in range(0,numPlayers):\n",
    "        if arr[i].value()!=0:\n",
    "            res.append(i)\n",
    "            print(i,arr[i].value(), end=\", \")\n",
    "    print()\n",
    "    return res "
   ],
   "id": "10fef3cb7994dde6",
   "outputs": [],
   "execution_count": 11
  },
  {
   "metadata": {
    "ExecuteTime": {
     "end_time": "2024-11-24T02:09:48.561993Z",
     "start_time": "2024-11-24T02:09:48.547585Z"
    }
   },
   "cell_type": "code",
   "source": [
    "k=0\n",
    "print(\"squad\")\n",
    "tmpsq1=see_result(squad[k],playersNum)\n",
    "print(\"subs\")\n",
    "tmpsb1=see_result(subs[k],playersNum)\n",
    "print(\"team\")\n",
    "tmpte1=see_result(team[k],playersNum)\n",
    "print(\"in\")\n",
    "tmpin1=see_result(transfer_in[k],playersNum)\n",
    "print(\"out\")\n",
    "tmpout1=see_result(transfer_out[k],playersNum)\n",
    "print(\"captain\")\n",
    "tmpcap1=see_result(captain[k],playersNum)"
   ],
   "id": "e6baff89f7c6ac37",
   "outputs": [
    {
     "name": "stdout",
     "output_type": "stream",
     "text": [
      "squad\n",
      "2 1.0, 98 1.0, 254 1.0, 290 1.0, 308 1.0, 323 1.0, 327 1.0, 338 1.0, 349 1.0, 365 1.0, 412 1.0, 446 1.0, 520 1.0, 540 1.0, 616 1.0, \n",
      "subs\n",
      "2 1.0, 290 1.0, 308 1.0, 412 1.0, \n",
      "team\n",
      "98 1.0, 254 1.0, 323 1.0, 327 1.0, 338 1.0, 349 1.0, 365 1.0, 446 1.0, 520 1.0, 540 1.0, 616 1.0, \n",
      "in\n",
      "323 1.0, 338 1.0, 349 1.0, 365 1.0, 540 1.0, 616 1.0, \n",
      "out\n",
      "116 1.0, 179 1.0, 229 1.0, 325 1.0, 332 1.0, 350 1.0, \n",
      "captain\n",
      "327 1.0, \n"
     ]
    }
   ],
   "execution_count": 462
  },
  {
   "metadata": {
    "ExecuteTime": {
     "end_time": "2024-11-24T02:09:53.765456Z",
     "start_time": "2024-11-24T02:09:53.757564Z"
    }
   },
   "cell_type": "code",
   "source": "df.iloc[tmpout1].sell_price.sum()-df.iloc[tmpin1].buy_price.sum()",
   "id": "f7dff0ecbd27400b",
   "outputs": [
    {
     "data": {
      "text/plain": [
       "np.int64(38)"
      ]
     },
     "execution_count": 463,
     "metadata": {},
     "output_type": "execute_result"
    }
   ],
   "execution_count": 463
  },
  {
   "metadata": {
    "ExecuteTime": {
     "end_time": "2024-11-29T22:22:13.396871Z",
     "start_time": "2024-11-29T22:22:13.367996Z"
    }
   },
   "cell_type": "code",
   "source": "sum(free[0]).value()",
   "id": "b64626a2a54c59fb",
   "outputs": [
    {
     "ename": "NameError",
     "evalue": "name 'free' is not defined",
     "output_type": "error",
     "traceback": [
      "\u001B[1;31m---------------------------------------------------------------------------\u001B[0m",
      "\u001B[1;31mNameError\u001B[0m                                 Traceback (most recent call last)",
      "Cell \u001B[1;32mIn[26], line 1\u001B[0m\n\u001B[1;32m----> 1\u001B[0m \u001B[38;5;28msum\u001B[39m(\u001B[43mfree\u001B[49m[\u001B[38;5;241m0\u001B[39m])\u001B[38;5;241m.\u001B[39mvalue()\n",
      "\u001B[1;31mNameError\u001B[0m: name 'free' is not defined"
     ]
    }
   ],
   "execution_count": 26
  },
  {
   "metadata": {
    "ExecuteTime": {
     "end_time": "2024-11-29T22:22:17.089697Z",
     "start_time": "2024-11-29T22:22:17.060965Z"
    }
   },
   "cell_type": "code",
   "source": "dff.buy_price[]",
   "id": "5fd4de9946e28f7b",
   "outputs": [
    {
     "data": {
      "text/plain": [
       "      id                          name  team_id  position  \\\n",
       "0      1         Fábio Ferreira Vieira        1         3   \n",
       "1      2     Gabriel Fernando de Jesus        1         4   \n",
       "2      3  Gabriel dos Santos Magalhães        1         2   \n",
       "3      4                   Kai Havertz        1         4   \n",
       "4      5                     Karl Hein        1         1   \n",
       "..   ...                           ...      ...       ...   \n",
       "679  680                    Max Kinsey        3         2   \n",
       "680  681             Ruairi McConville        5         2   \n",
       "681  682                    Tom Edozie       20         3   \n",
       "682  683                Callum Olusesi       18         3   \n",
       "683  684                 Malachi Hardy       18         2   \n",
       "\n",
       "                                        expectedPoints  availability  \\\n",
       "0    [0.0, 0.0, 0.0, 0.0, 0.0, 0.0, 0.0, 0.0, 0.0, ...             0   \n",
       "1    [0.0, 0.0, 0.0, 0.0, 0.0, 0.0, 0.0, 0.0, 0.0, ...           100   \n",
       "2    [0.0, 0.0, 0.0, 0.0, 0.0, 0.0, 0.0, 0.0, 0.0, ...           100   \n",
       "3    [0.0, 0.0, 0.0, 0.0, 0.0, 0.0, 0.0, 0.0, 0.0, ...           100   \n",
       "4    [0.0, 0.0, 0.0, 0.0, 0.0, 0.0, 0.0, 0.0, 0.0, ...             0   \n",
       "..                                                 ...           ...   \n",
       "679  [0.0, 0.0, 0.0, 0.0, 0.0, 0.0, 0.0, 0.0, 0.0, ...             0   \n",
       "680  [0.0, 0.0, 0.0, 0.0, 0.0, 0.0, 0.0, 0.0, 0.0, ...             0   \n",
       "681  [0.0, 0.0, 0.0, 0.0, 0.0, 0.0, 0.0, 0.0, 0.0, ...             0   \n",
       "682  [0.0, 0.0, 0.0, 0.0, 0.0, 0.0, 0.0, 0.0, 0.0, ...             0   \n",
       "683  [0.0, 0.0, 0.0, 0.0, 0.0, 0.0, 0.0, 0.0, 0.0, ...             0   \n",
       "\n",
       "     buy_price  sell_price  \n",
       "0           54          54  \n",
       "1           68          68  \n",
       "2           62          61  \n",
       "3           79          79  \n",
       "4           40          40  \n",
       "..         ...         ...  \n",
       "679         40          40  \n",
       "680         40          40  \n",
       "681         45          45  \n",
       "682         45          45  \n",
       "683         40          40  \n",
       "\n",
       "[684 rows x 8 columns]"
      ],
      "text/html": [
       "<div>\n",
       "<style scoped>\n",
       "    .dataframe tbody tr th:only-of-type {\n",
       "        vertical-align: middle;\n",
       "    }\n",
       "\n",
       "    .dataframe tbody tr th {\n",
       "        vertical-align: top;\n",
       "    }\n",
       "\n",
       "    .dataframe thead th {\n",
       "        text-align: right;\n",
       "    }\n",
       "</style>\n",
       "<table border=\"1\" class=\"dataframe\">\n",
       "  <thead>\n",
       "    <tr style=\"text-align: right;\">\n",
       "      <th></th>\n",
       "      <th>id</th>\n",
       "      <th>name</th>\n",
       "      <th>team_id</th>\n",
       "      <th>position</th>\n",
       "      <th>expectedPoints</th>\n",
       "      <th>availability</th>\n",
       "      <th>buy_price</th>\n",
       "      <th>sell_price</th>\n",
       "    </tr>\n",
       "  </thead>\n",
       "  <tbody>\n",
       "    <tr>\n",
       "      <th>0</th>\n",
       "      <td>1</td>\n",
       "      <td>Fábio Ferreira Vieira</td>\n",
       "      <td>1</td>\n",
       "      <td>3</td>\n",
       "      <td>[0.0, 0.0, 0.0, 0.0, 0.0, 0.0, 0.0, 0.0, 0.0, ...</td>\n",
       "      <td>0</td>\n",
       "      <td>54</td>\n",
       "      <td>54</td>\n",
       "    </tr>\n",
       "    <tr>\n",
       "      <th>1</th>\n",
       "      <td>2</td>\n",
       "      <td>Gabriel Fernando de Jesus</td>\n",
       "      <td>1</td>\n",
       "      <td>4</td>\n",
       "      <td>[0.0, 0.0, 0.0, 0.0, 0.0, 0.0, 0.0, 0.0, 0.0, ...</td>\n",
       "      <td>100</td>\n",
       "      <td>68</td>\n",
       "      <td>68</td>\n",
       "    </tr>\n",
       "    <tr>\n",
       "      <th>2</th>\n",
       "      <td>3</td>\n",
       "      <td>Gabriel dos Santos Magalhães</td>\n",
       "      <td>1</td>\n",
       "      <td>2</td>\n",
       "      <td>[0.0, 0.0, 0.0, 0.0, 0.0, 0.0, 0.0, 0.0, 0.0, ...</td>\n",
       "      <td>100</td>\n",
       "      <td>62</td>\n",
       "      <td>61</td>\n",
       "    </tr>\n",
       "    <tr>\n",
       "      <th>3</th>\n",
       "      <td>4</td>\n",
       "      <td>Kai Havertz</td>\n",
       "      <td>1</td>\n",
       "      <td>4</td>\n",
       "      <td>[0.0, 0.0, 0.0, 0.0, 0.0, 0.0, 0.0, 0.0, 0.0, ...</td>\n",
       "      <td>100</td>\n",
       "      <td>79</td>\n",
       "      <td>79</td>\n",
       "    </tr>\n",
       "    <tr>\n",
       "      <th>4</th>\n",
       "      <td>5</td>\n",
       "      <td>Karl Hein</td>\n",
       "      <td>1</td>\n",
       "      <td>1</td>\n",
       "      <td>[0.0, 0.0, 0.0, 0.0, 0.0, 0.0, 0.0, 0.0, 0.0, ...</td>\n",
       "      <td>0</td>\n",
       "      <td>40</td>\n",
       "      <td>40</td>\n",
       "    </tr>\n",
       "    <tr>\n",
       "      <th>...</th>\n",
       "      <td>...</td>\n",
       "      <td>...</td>\n",
       "      <td>...</td>\n",
       "      <td>...</td>\n",
       "      <td>...</td>\n",
       "      <td>...</td>\n",
       "      <td>...</td>\n",
       "      <td>...</td>\n",
       "    </tr>\n",
       "    <tr>\n",
       "      <th>679</th>\n",
       "      <td>680</td>\n",
       "      <td>Max Kinsey</td>\n",
       "      <td>3</td>\n",
       "      <td>2</td>\n",
       "      <td>[0.0, 0.0, 0.0, 0.0, 0.0, 0.0, 0.0, 0.0, 0.0, ...</td>\n",
       "      <td>0</td>\n",
       "      <td>40</td>\n",
       "      <td>40</td>\n",
       "    </tr>\n",
       "    <tr>\n",
       "      <th>680</th>\n",
       "      <td>681</td>\n",
       "      <td>Ruairi McConville</td>\n",
       "      <td>5</td>\n",
       "      <td>2</td>\n",
       "      <td>[0.0, 0.0, 0.0, 0.0, 0.0, 0.0, 0.0, 0.0, 0.0, ...</td>\n",
       "      <td>0</td>\n",
       "      <td>40</td>\n",
       "      <td>40</td>\n",
       "    </tr>\n",
       "    <tr>\n",
       "      <th>681</th>\n",
       "      <td>682</td>\n",
       "      <td>Tom Edozie</td>\n",
       "      <td>20</td>\n",
       "      <td>3</td>\n",
       "      <td>[0.0, 0.0, 0.0, 0.0, 0.0, 0.0, 0.0, 0.0, 0.0, ...</td>\n",
       "      <td>0</td>\n",
       "      <td>45</td>\n",
       "      <td>45</td>\n",
       "    </tr>\n",
       "    <tr>\n",
       "      <th>682</th>\n",
       "      <td>683</td>\n",
       "      <td>Callum Olusesi</td>\n",
       "      <td>18</td>\n",
       "      <td>3</td>\n",
       "      <td>[0.0, 0.0, 0.0, 0.0, 0.0, 0.0, 0.0, 0.0, 0.0, ...</td>\n",
       "      <td>0</td>\n",
       "      <td>45</td>\n",
       "      <td>45</td>\n",
       "    </tr>\n",
       "    <tr>\n",
       "      <th>683</th>\n",
       "      <td>684</td>\n",
       "      <td>Malachi Hardy</td>\n",
       "      <td>18</td>\n",
       "      <td>2</td>\n",
       "      <td>[0.0, 0.0, 0.0, 0.0, 0.0, 0.0, 0.0, 0.0, 0.0, ...</td>\n",
       "      <td>0</td>\n",
       "      <td>40</td>\n",
       "      <td>40</td>\n",
       "    </tr>\n",
       "  </tbody>\n",
       "</table>\n",
       "<p>684 rows × 8 columns</p>\n",
       "</div>"
      ]
     },
     "execution_count": 27,
     "metadata": {},
     "output_type": "execute_result"
    }
   ],
   "execution_count": 27
  },
  {
   "metadata": {
    "ExecuteTime": {
     "end_time": "2024-11-22T18:26:01.460679Z",
     "start_time": "2024-11-22T18:26:01.452181Z"
    }
   },
   "cell_type": "code",
   "source": "see_result(free[0],playersNum)\n",
   "id": "5617774560539141",
   "outputs": [
    {
     "name": "stdout",
     "output_type": "stream",
     "text": [
      "323 1.0, 365 1.0, 540 1.0, \n"
     ]
    },
    {
     "data": {
      "text/plain": [
       "[323, 365, 540]"
      ]
     },
     "execution_count": 431,
     "metadata": {},
     "output_type": "execute_result"
    }
   ],
   "execution_count": 431
  },
  {
   "metadata": {},
   "cell_type": "code",
   "outputs": [],
   "execution_count": null,
   "source": "",
   "id": "25c8f2b38fb1eac0"
  },
  {
   "metadata": {
    "ExecuteTime": {
     "end_time": "2024-11-22T18:24:51.127443Z",
     "start_time": "2024-11-22T18:24:51.117844Z"
    }
   },
   "cell_type": "code",
   "source": [
    "k=1\n",
    "print(\"squad\")\n",
    "tmpsq=see_result(squad[k],playersNum)\n",
    "print(\"subs\")\n",
    "tmpsb=see_result(subs[k],playersNum)\n",
    "print(\"team\")\n",
    "tmpte=see_result(team[k],playersNum)\n",
    "print(\"in\")\n",
    "tmpin=see_result(transfer_in[k],playersNum)\n",
    "print(\"out\")\n",
    "tmpout=see_result(transfer_out[k],playersNum)\n",
    "print(\"captain\")\n",
    "tmpcap=see_result(captain[k],playersNum)"
   ],
   "id": "9d9146d6549fc318",
   "outputs": [
    {
     "name": "stdout",
     "output_type": "stream",
     "text": [
      "squad\n",
      "2 1.0, 98 1.0, 234 1.0, 254 1.0, 290 1.0, 308 1.0, 323 1.0, 327 1.0, 338 1.0, 349 1.0, 365 1.0, 412 1.0, 446 1.0, 540 1.0, 616 1.0, \n",
      "subs\n",
      "2 1.0, 290 1.0, 308 1.0, 412 1.0, \n",
      "team\n",
      "98 1.0, 234 1.0, 254 1.0, 323 1.0, 327 1.0, 338 1.0, 349 1.0, 365 1.0, 446 1.0, 540 1.0, 616 1.0, \n",
      "in\n",
      "234 1.0, \n",
      "out\n",
      "520 1.0, \n",
      "captain\n",
      "327 1.0, \n"
     ]
    }
   ],
   "execution_count": 429
  },
  {
   "metadata": {
    "ExecuteTime": {
     "end_time": "2024-11-29T22:22:24.103628Z",
     "start_time": "2024-11-29T22:22:24.085298Z"
    }
   },
   "cell_type": "code",
   "source": "df.iloc[338]",
   "id": "cdbcae949d343186",
   "outputs": [
    {
     "data": {
      "text/plain": [
       "id                                                              339\n",
       "name                                                Virgil van Dijk\n",
       "team_id                                                          12\n",
       "position                                                          2\n",
       "expectedPoints    [0.0, 0.0, 0.0, 0.0, 0.0, 0.0, 0.0, 0.0, 0.0, ...\n",
       "availability                                                      0\n",
       "buy_price                                                        63\n",
       "sell_price                                                       63\n",
       "Name: 338, dtype: object"
      ]
     },
     "execution_count": 28,
     "metadata": {},
     "output_type": "execute_result"
    }
   ],
   "execution_count": 28
  },
  {
   "metadata": {
    "ExecuteTime": {
     "end_time": "2024-11-22T00:30:21.721654Z",
     "start_time": "2024-11-22T00:30:21.709075Z"
    }
   },
   "cell_type": "code",
   "source": "21+df.iloc[tmpout1].sell_price.sum()- df.iloc[tmpin1].buy_price.sum()",
   "id": "a6e6bbee2619df0c",
   "outputs": [
    {
     "data": {
      "text/plain": [
       "np.int64(32)"
      ]
     },
     "execution_count": 169,
     "metadata": {},
     "output_type": "execute_result"
    }
   ],
   "execution_count": 169
  },
  {
   "metadata": {
    "ExecuteTime": {
     "end_time": "2024-11-22T00:19:48.285952Z",
     "start_time": "2024-11-22T00:19:48.280273Z"
    }
   },
   "cell_type": "code",
   "source": "df.iloc[tmpin1].buy_price.sum()",
   "id": "5be9cb6534a36755",
   "outputs": [
    {
     "data": {
      "text/plain": [
       "np.int64(411)"
      ]
     },
     "execution_count": 147,
     "metadata": {},
     "output_type": "execute_result"
    }
   ],
   "execution_count": 147
  },
  {
   "metadata": {
    "ExecuteTime": {
     "end_time": "2024-11-22T00:20:02.205462Z",
     "start_time": "2024-11-22T00:20:02.199593Z"
    }
   },
   "cell_type": "code",
   "source": "df.iloc[tmpout1].sell_price.sum()",
   "id": "b472cd2762463e8",
   "outputs": [
    {
     "data": {
      "text/plain": [
       "np.int64(422)"
      ]
     },
     "execution_count": 149,
     "metadata": {},
     "output_type": "execute_result"
    }
   ],
   "execution_count": 149
  },
  {
   "metadata": {
    "ExecuteTime": {
     "end_time": "2024-11-22T00:24:35.378724Z",
     "start_time": "2024-11-22T00:24:35.371216Z"
    }
   },
   "cell_type": "code",
   "source": "df.iloc[tmpout].sell_price",
   "id": "bf5c9b1b53af6ba",
   "outputs": [
    {
     "data": {
      "text/plain": [
       "254    47\n",
       "Name: sell_price, dtype: int64"
      ]
     },
     "execution_count": 158,
     "metadata": {},
     "output_type": "execute_result"
    }
   ],
   "execution_count": 158
  },
  {
   "metadata": {
    "ExecuteTime": {
     "end_time": "2024-11-21T21:52:19.483467Z",
     "start_time": "2024-11-21T21:52:19.472666Z"
    }
   },
   "cell_type": "code",
   "source": "df.iloc[tmpte].expectedPoints.apply(lambda x: x[1]).sum()",
   "id": "bc8a9cf9a779cc1",
   "outputs": [
    {
     "data": {
      "text/plain": [
       "Decimal('79.10')"
      ]
     },
     "execution_count": 113,
     "metadata": {},
     "output_type": "execute_result"
    }
   ],
   "execution_count": 113
  },
  {
   "metadata": {
    "ExecuteTime": {
     "end_time": "2024-11-29T22:12:48.293175Z",
     "start_time": "2024-11-29T22:12:48.257477Z"
    }
   },
   "cell_type": "code",
   "source": [
    "importlib.reload(app.services.algorithm.utils)\n",
    "from app.services.algorithm.utils import get_decision_array\n"
   ],
   "id": "f327d4de8827fbe8",
   "outputs": [
    {
     "ename": "NameError",
     "evalue": "name 'app' is not defined",
     "output_type": "error",
     "traceback": [
      "\u001B[1;31m---------------------------------------------------------------------------\u001B[0m",
      "\u001B[1;31mNameError\u001B[0m                                 Traceback (most recent call last)",
      "Cell \u001B[1;32mIn[33], line 1\u001B[0m\n\u001B[1;32m----> 1\u001B[0m importlib\u001B[38;5;241m.\u001B[39mreload(\u001B[43mapp\u001B[49m\u001B[38;5;241m.\u001B[39mservices\u001B[38;5;241m.\u001B[39malgorithm\u001B[38;5;241m.\u001B[39mutils)\n\u001B[0;32m      2\u001B[0m \u001B[38;5;28;01mfrom\u001B[39;00m \u001B[38;5;21;01mapp\u001B[39;00m\u001B[38;5;21;01m.\u001B[39;00m\u001B[38;5;21;01mservices\u001B[39;00m\u001B[38;5;21;01m.\u001B[39;00m\u001B[38;5;21;01malgorithm\u001B[39;00m\u001B[38;5;21;01m.\u001B[39;00m\u001B[38;5;21;01mutils\u001B[39;00m \u001B[38;5;28;01mimport\u001B[39;00m get_decision_array\n",
      "\u001B[1;31mNameError\u001B[0m: name 'app' is not defined"
     ]
    }
   ],
   "execution_count": 33
  },
  {
   "metadata": {
    "ExecuteTime": {
     "end_time": "2024-11-29T22:12:59.604895Z",
     "start_time": "2024-11-29T22:12:59.573169Z"
    }
   },
   "cell_type": "code",
   "source": "a=get_decision_array(\"name\",2,2)",
   "id": "7005bf7927bbfce",
   "outputs": [
    {
     "ename": "NameError",
     "evalue": "name 'get_decision_array' is not defined",
     "output_type": "error",
     "traceback": [
      "\u001B[1;31m---------------------------------------------------------------------------\u001B[0m",
      "\u001B[1;31mNameError\u001B[0m                                 Traceback (most recent call last)",
      "Cell \u001B[1;32mIn[36], line 1\u001B[0m\n\u001B[1;32m----> 1\u001B[0m a\u001B[38;5;241m=\u001B[39m\u001B[43mget_decision_array\u001B[49m(\u001B[38;5;124m\"\u001B[39m\u001B[38;5;124mname\u001B[39m\u001B[38;5;124m\"\u001B[39m,\u001B[38;5;241m2\u001B[39m,\u001B[38;5;241m2\u001B[39m)\n",
      "\u001B[1;31mNameError\u001B[0m: name 'get_decision_array' is not defined"
     ]
    }
   ],
   "execution_count": 36
  },
  {
   "metadata": {
    "ExecuteTime": {
     "end_time": "2024-11-29T22:12:58.053109Z",
     "start_time": "2024-11-29T22:12:58.027349Z"
    }
   },
   "cell_type": "code",
   "source": "sum(sum(a))",
   "id": "4468e4e120af75ef",
   "outputs": [
    {
     "ename": "NameError",
     "evalue": "name 'a' is not defined",
     "output_type": "error",
     "traceback": [
      "\u001B[1;31m---------------------------------------------------------------------------\u001B[0m",
      "\u001B[1;31mNameError\u001B[0m                                 Traceback (most recent call last)",
      "Cell \u001B[1;32mIn[35], line 1\u001B[0m\n\u001B[1;32m----> 1\u001B[0m \u001B[38;5;28msum\u001B[39m(\u001B[38;5;28msum\u001B[39m(\u001B[43ma\u001B[49m))\n",
      "\u001B[1;31mNameError\u001B[0m: name 'a' is not defined"
     ]
    }
   ],
   "execution_count": 35
  },
  {
   "metadata": {
    "ExecuteTime": {
     "end_time": "2024-11-21T20:47:14.899492Z",
     "start_time": "2024-11-21T20:47:14.893587Z"
    }
   },
   "cell_type": "code",
   "source": "sum(a[0])",
   "id": "f00f0d3df1753b02",
   "outputs": [
    {
     "data": {
      "text/plain": [
       "1*name_0_0 + 1*name_1_0 + 0"
      ]
     },
     "execution_count": 68,
     "metadata": {},
     "output_type": "execute_result"
    }
   ],
   "execution_count": 68
  },
  {
   "metadata": {
    "ExecuteTime": {
     "end_time": "2024-11-21T22:36:03.849914Z",
     "start_time": "2024-11-21T22:36:03.835889Z"
    }
   },
   "cell_type": "code",
   "source": "dd=pd.DataFrame({\"a\":[1,2],\"b\":[3,4]})",
   "id": "4a784a2157949501",
   "outputs": [],
   "execution_count": 122
  },
  {
   "metadata": {
    "ExecuteTime": {
     "end_time": "2024-11-21T22:37:57.297140Z",
     "start_time": "2024-11-21T22:37:57.277374Z"
    }
   },
   "cell_type": "code",
   "source": [
    "for a in range(2):\n",
    "    dd.loc[a,\"a\"]=4\n",
    "dd"
   ],
   "id": "a9d9381d6644dd84",
   "outputs": [
    {
     "data": {
      "text/plain": [
       "   a  b\n",
       "0  4  3\n",
       "1  4  4"
      ],
      "text/html": [
       "<div>\n",
       "<style scoped>\n",
       "    .dataframe tbody tr th:only-of-type {\n",
       "        vertical-align: middle;\n",
       "    }\n",
       "\n",
       "    .dataframe tbody tr th {\n",
       "        vertical-align: top;\n",
       "    }\n",
       "\n",
       "    .dataframe thead th {\n",
       "        text-align: right;\n",
       "    }\n",
       "</style>\n",
       "<table border=\"1\" class=\"dataframe\">\n",
       "  <thead>\n",
       "    <tr style=\"text-align: right;\">\n",
       "      <th></th>\n",
       "      <th>a</th>\n",
       "      <th>b</th>\n",
       "    </tr>\n",
       "  </thead>\n",
       "  <tbody>\n",
       "    <tr>\n",
       "      <th>0</th>\n",
       "      <td>4</td>\n",
       "      <td>3</td>\n",
       "    </tr>\n",
       "    <tr>\n",
       "      <th>1</th>\n",
       "      <td>4</td>\n",
       "      <td>4</td>\n",
       "    </tr>\n",
       "  </tbody>\n",
       "</table>\n",
       "</div>"
      ]
     },
     "execution_count": 131,
     "metadata": {},
     "output_type": "execute_result"
    }
   ],
   "execution_count": 131
  },
  {
   "metadata": {
    "ExecuteTime": {
     "end_time": "2024-11-24T13:18:07.047087Z",
     "start_time": "2024-11-24T13:18:07.037674Z"
    }
   },
   "cell_type": "code",
   "source": [
    "d={}\n",
    "d[\"tc\"]=[1,2]\n",
    "d[\"bb\"]=[3,4]\n",
    "a=d.get(\"wc\")\n",
    "for i in range(2):\n",
    "    suma=sum([d[k][i] for k in d])\n",
    "    print(suma)"
   ],
   "id": "a2205a84481e737e",
   "outputs": [
    {
     "name": "stdout",
     "output_type": "stream",
     "text": [
      "1\n",
      "2\n"
     ]
    }
   ],
   "execution_count": 478
  },
  {
   "metadata": {
    "ExecuteTime": {
     "end_time": "2024-11-24T13:15:05.254211Z",
     "start_time": "2024-11-24T13:15:05.244307Z"
    }
   },
   "cell_type": "code",
   "source": [
    "for k in d:\n",
    "    print(k)"
   ],
   "id": "a525810e4b5159e4",
   "outputs": [
    {
     "name": "stdout",
     "output_type": "stream",
     "text": [
      "tc\n",
      "bb\n"
     ]
    }
   ],
   "execution_count": 474
  },
  {
   "metadata": {
    "ExecuteTime": {
     "end_time": "2024-11-29T22:22:35.234306Z",
     "start_time": "2024-11-29T22:22:35.226474Z"
    }
   },
   "cell_type": "code",
   "source": [
    "s=Squad()\n",
    "\n",
    "for i in s.transfers:\n",
    "    print(i)\n",
    "print(\"done\")\n",
    "\n"
   ],
   "id": "a342dc017176acaf",
   "outputs": [
    {
     "name": "stdout",
     "output_type": "stream",
     "text": [
      "done\n"
     ]
    }
   ],
   "execution_count": 30
  },
  {
   "metadata": {
    "ExecuteTime": {
     "end_time": "2024-11-29T22:22:32.194632Z",
     "start_time": "2024-11-29T22:22:32.178724Z"
    }
   },
   "cell_type": "code",
   "source": "sum([])",
   "id": "facdebeeae73f745",
   "outputs": [
    {
     "data": {
      "text/plain": [
       "0"
      ]
     },
     "execution_count": 29,
     "metadata": {},
     "output_type": "execute_result"
    }
   ],
   "execution_count": 29
  },
  {
   "metadata": {
    "ExecuteTime": {
     "end_time": "2024-11-29T22:14:16.506298Z",
     "start_time": "2024-11-29T22:14:16.503566Z"
    }
   },
   "cell_type": "code",
   "source": "",
   "id": "71796439c9d96a15",
   "outputs": [],
   "execution_count": null
  },
  {
   "metadata": {},
   "cell_type": "code",
   "outputs": [],
   "execution_count": null,
   "source": "",
   "id": "49c5dbec772fa3cc"
  }
 ],
 "metadata": {
  "kernelspec": {
   "display_name": "Python 3",
   "language": "python",
   "name": "python3"
  },
  "language_info": {
   "codemirror_mode": {
    "name": "ipython",
    "version": 2
   },
   "file_extension": ".py",
   "mimetype": "text/x-python",
   "name": "python",
   "nbconvert_exporter": "python",
   "pygments_lexer": "ipython2",
   "version": "2.7.6"
  }
 },
 "nbformat": 4,
 "nbformat_minor": 5
}
